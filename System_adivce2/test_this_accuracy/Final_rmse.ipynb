{
 "cells": [
  {
   "cell_type": "code",
   "execution_count": 3,
   "metadata": {},
   "outputs": [],
   "source": [
    "import pandas as pd\n",
    "import numpy as np\n",
    "from math import sqrt\n",
    "from collections import Counter\n",
    "import threading\n",
    "pathrating = \"ratings3.csv\"\n",
    "dtype = {\"userId\":np.int32, \"movieId\":np.int32,\"rating\":np.float32}\n",
    "ratings = pd.read_csv(pathrating,dtype=dtype,usecols=range(3))"
   ]
  },
  {
   "cell_type": "code",
   "execution_count": 4,
   "metadata": {},
   "outputs": [],
   "source": [
    "def Get_TestdData(datatrain,dtype,test):\n",
    "        rating_dict = {}\n",
    "        ratings = datatrain\n",
    "#         ratings = pd.read_csv(pathrating,dtype=dtype,usecols=range(3))\n",
    "        # Covert data to array. Get rating_dict\n",
    "        for i in range(ratings.shape[0]):\n",
    "                line =  ratings.iloc[i,:]\n",
    "                if line.userId in rating_dict:\n",
    "                        rating_dict[line.userId][line.movieId]  = line.rating\n",
    "                else:\n",
    "                        rating_dict[line.userId] = {line.movieId:line.rating}\n",
    "        \n",
    "        #make rating_dict visible\n",
    "        rating_matrix = pd.DataFrame(rating_dict).T\n",
    "        rating_matrix2 = pd.DataFrame(rating_dict).T\n",
    "        x=rating_matrix.mean(1)\n",
    "\n",
    "        #Linear Normalization\n",
    "        rating_matrix3 = ((rating_matrix.T - rating_matrix.T.mean(axis=0))/(rating_matrix.T.max(axis=0)-rating_matrix.T.min(axis=0))).T\n",
    "        #standardization Normalization\n",
    "        rating_matrix4 = ((rating_matrix.T - rating_matrix.T.mean(axis=0))/rating_matrix.T.std(axis=0)).T\n",
    "\n",
    "        # To triming data fill number 0 on places which number is None \n",
    "        rating_matrix_fill_spark_zero = rating_matrix3.fillna(0)\n",
    "\n",
    "        #Use SVD decomposition to dimensionality reduction\n",
    "        U,SIGMA,Vt = np.linalg.svd(rating_matrix_fill_spark_zero)\n",
    "        reduced_matrix = (U[:,:3].dot(np.eye(3)*SIGMA[:3])).T.dot(rating_matrix_fill_spark_zero)\n",
    "\n",
    "        #Two ways to Normalization \n",
    "        #Linear Normalization to calaulte easily\n",
    "        std_matrix1 = ((reduced_matrix.T - reduced_matrix.T.mean(axis=0))/(reduced_matrix.T.max(axis=0)-reduced_matrix.T.min(axis=0))).T\n",
    "\n",
    "        #standardization \n",
    "        std_matrix2 = ((reduced_matrix.T - reduced_matrix.T.mean(axis=0))/reduced_matrix.T.std(axis=0)).T\n",
    "\n",
    "        #Chose Linear \n",
    "        std_matrix =std_matrix2\n",
    "\n",
    "        #Cosine similarity between movies\n",
    "        upfactor = std_matrix.T.dot(std_matrix)#分子\n",
    "        downfactor = (np.linalg.norm(std_matrix,axis=0).reshape(-1,1)).dot(np.linalg.norm(std_matrix,axis=0).reshape(1,-1))\n",
    "        CosSim =(upfactor/downfactor +1)/2\n",
    "        \n",
    "        predict = pd.DataFrame()\n",
    "        movielist = rating_matrix.columns\n",
    "        userlist = rating_matrix.index\n",
    "\n",
    "\n",
    "        for user in range(rating_matrix.shape[0]):\n",
    "            useid = userlist[user]\n",
    "            isnull = np.isnan(rating_matrix.values[user,:])\n",
    "            rated = ~isnull\n",
    "            Recommandid = movielist[isnull]\n",
    "            similar_movie_rated=(CosSim[isnull,:][:,rated])*(CosSim[isnull,:][:,rated]>0.4) # martix of \n",
    "            ratedmovie=(rating_matrix2.values[user,:][rated])\n",
    "            sum_rated_cos=np.sum(similar_movie_rated,axis=1)\n",
    "            #incase of factor is 0 to make factor not to be 0.\n",
    "            for i in range(sum_rated_cos.shape[0]):\n",
    "                if sum_rated_cos[i] == 0:\n",
    "                    sum_rated_cos[i]=1\n",
    "            predict_Val=similar_movie_rated.dot(ratedmovie.T)/sum_rated_cos\n",
    "        #    predict_Val=(CosSim[isnull,:][:,rated]).dot(rating_matrix2.values[user,:][rated])/np.sum(CosSim[isnull,:][:,rated],axis=1)\n",
    " \n",
    "            index = np.argsort(predict_Val)[::-1]\n",
    "            predict_Val = predict_Val[index]\n",
    "            Recommandid = Recommandid[index]\n",
    "            predict = pd.concat([predict,pd.DataFrame({'userid':useid, 'RecomandID':Recommandid, 'Predice_score':predict_Val})])\n",
    "\n",
    "        h = []\n",
    "\n",
    "        for i in range(test.shape[0]):\n",
    "            line = test.iloc[i,:]\n",
    "            if line.movieId not in movielist:\n",
    "                h.append(0)\n",
    "            else:\n",
    "                target = predict.loc[(predict['userid']==line.userId)&(predict['RecomandID']==line.movieId)].iloc[0,2]\n",
    "                h.append(target)\n",
    "        datatest = pd.DataFrame()\n",
    "        datatest = test\n",
    "        datatest['predictrate']=h\n",
    "        return datatest,x"
   ]
  },
  {
   "cell_type": "code",
   "execution_count": 5,
   "metadata": {},
   "outputs": [],
   "source": [
    "def k_folds(data_path, n_folds):\n",
    "        data_folds_index = [[] for i in range(n_folds)]\n",
    "        ratings = pd.read_csv(pathrating,dtype=dtype,usecols=range(3))\n",
    "        for userid in ratings.groupby(\"userId\").any().index:\n",
    "                        user_rating_data = ratings.where(ratings[\"userId\"]==userid).dropna()\n",
    "                        index = list(user_rating_data.index.values)\n",
    "                        np.random.shuffle(index)\n",
    "                        start, stop = 0,0\n",
    "                        for fold_i in range(n_folds):\n",
    "                            start = stop\n",
    "                            stop +=len(index) // n_folds\n",
    "                            if fold_i < len(index) % n_folds:\n",
    "                                stop +=1\n",
    "                            data_folds_index[fold_i] +=(index[start:stop])\n",
    "        data_folds = [ratings.loc[data_folds_index[i]] for i in range(n_folds)]\n",
    "        return data_folds"
   ]
  },
  {
   "cell_type": "code",
   "execution_count": 6,
   "metadata": {},
   "outputs": [],
   "source": [
    "def maeAndEmse(data,x):\n",
    "    length = 0 \n",
    "    _rmse_sum = 0\n",
    "    _mae_sum = 0\n",
    "    for i in range(data.shape[0]):\n",
    "                line = data.iloc[i,:]\n",
    "                if line.predictrate != 0 and (line.rating>=x[line.userId]) :\n",
    "                    length += 1\n",
    "                    _rmse_sum += (line.predictrate - line.rating) ** 2\n",
    "                    _mae_sum += abs(line.predictrate- line.rating)\n",
    "  \n",
    "    return round(_mae_sum / length, 4), round(sqrt(_rmse_sum / length), 4)"
   ]
  },
  {
   "cell_type": "code",
   "execution_count": 7,
   "metadata": {},
   "outputs": [],
   "source": [
    "def RmseAndmaeValue(datatrain,dtype,test):\n",
    "    datatest,x =  Get_TestdData(datatrain,dtype,test)\n",
    "    mae, rmse = maeAndEmse(datatest,x)\n",
    "    return mae, rmse\n",
    "    "
   ]
  },
  {
   "cell_type": "code",
   "execution_count": 11,
   "metadata": {},
   "outputs": [],
   "source": [
    "class MyThread(threading.Thread):\n",
    "    def __init__(self,func,args=()):\n",
    "            super(MyThread,self).__init__()\n",
    "            self.func = func\n",
    "            self.args = args\n",
    "    def run(self):\n",
    "        self.result = self.func(*self.args)\n",
    "    def get_result(self):\n",
    "            try:\n",
    "                return self.result # 如果子线程不使用join方法，此处可能会报没有self.result的错误\n",
    "            except Exception:\n",
    "                return None"
   ]
  },
  {
   "cell_type": "code",
   "execution_count": 15,
   "metadata": {},
   "outputs": [],
   "source": [
    "n_folds = 5\n",
    "data_folds = k_folds(pathrating,n_folds)\n",
    "avg_mae = 0\n",
    "avg_rmse = 0\n",
    "li = []\n",
    "for i in range(n_folds):\n",
    "    datatrain = pd.DataFrame()\n",
    "    test = pd.DataFrame()\n",
    "    for j in range(n_folds):\n",
    "        if i != j:\n",
    "            datatrain =pd.concat([datatrain,data_folds[j]])\n",
    "    test = data_folds[i].copy()   \n",
    "    t = MyThread(RmseAndmaeValue,args=(datatrain,dtype,test))\n",
    "    li.append(t)\n",
    "    t.start()\n",
    "    \n",
    "for t in li:\n",
    "    t.join()\n",
    "    mae,rmse = t.get_result()\n",
    "    avg_mae +=mae\n",
    "    avg_rmse +=rmse\n",
    "#      = RmseAndmaeValue(datatrain,dtype,test)\n"
   ]
  },
  {
   "cell_type": "code",
   "execution_count": 16,
   "metadata": {},
   "outputs": [
    {
     "data": {
      "text/plain": [
       "0.6657"
      ]
     },
     "execution_count": 16,
     "metadata": {},
     "output_type": "execute_result"
    }
   ],
   "source": [
    "round(avg_mae/n_folds,4)"
   ]
  },
  {
   "cell_type": "code",
   "execution_count": 17,
   "metadata": {},
   "outputs": [
    {
     "data": {
      "text/plain": [
       "0.838"
      ]
     },
     "execution_count": 17,
     "metadata": {},
     "output_type": "execute_result"
    }
   ],
   "source": [
    "round(avg_rmse/n_folds,4)"
   ]
  },
  {
   "cell_type": "code",
   "execution_count": 6,
   "metadata": {},
   "outputs": [],
   "source": [
    "n_folds = 5\n",
    "data_folds = k_folds(pathrating,n_folds)\n",
    "avg_mae = 0\n",
    "avg_rmse = 0\n",
    "li = []\n",
    "for i in range(n_folds):\n",
    "    datatrain = pd.DataFrame()\n",
    "    test = pd.DataFrame()\n",
    "    for j in range(n_folds):\n",
    "        if i != j:\n",
    "            datatrain =pd.concat([datatrain,data_folds[j]])\n",
    "    test = data_folds[i].copy()   \n",
    "    mae, rmse =_thread.start_new_thread(RmseAndmaeValue,(datatrain,dtype,test))\n",
    "#      = RmseAndmaeValue(datatrain,dtype,test)\n",
    "    avg_mae +=mae\n",
    "    avg_rmse +=rmse\n",
    "    \n"
   ]
  },
  {
   "cell_type": "code",
   "execution_count": 7,
   "metadata": {},
   "outputs": [
    {
     "data": {
      "text/plain": [
       "0.6636"
      ]
     },
     "execution_count": 7,
     "metadata": {},
     "output_type": "execute_result"
    }
   ],
   "source": [
    "round(avg_mae/n_folds,4)\n"
   ]
  },
  {
   "cell_type": "code",
   "execution_count": 8,
   "metadata": {},
   "outputs": [
    {
     "data": {
      "text/plain": [
       "0.8343"
      ]
     },
     "execution_count": 8,
     "metadata": {},
     "output_type": "execute_result"
    }
   ],
   "source": [
    "round(avg_rmse/n_folds,4)"
   ]
  },
  {
   "cell_type": "code",
   "execution_count": null,
   "metadata": {},
   "outputs": [],
   "source": []
  }
 ],
 "metadata": {
  "kernelspec": {
   "display_name": "Python 3",
   "language": "python",
   "name": "python3"
  },
  "language_info": {
   "codemirror_mode": {
    "name": "ipython",
    "version": 3
   },
   "file_extension": ".py",
   "mimetype": "text/x-python",
   "name": "python",
   "nbconvert_exporter": "python",
   "pygments_lexer": "ipython3",
   "version": "3.7.4"
  }
 },
 "nbformat": 4,
 "nbformat_minor": 2
}
